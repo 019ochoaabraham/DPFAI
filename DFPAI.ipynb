{
 "cells": [
  {
   "cell_type": "markdown",
   "id": "919af9d7",
   "metadata": {},
   "source": [
    "# Data and Programming Foundations for AI Skill Porfolio Project"
   ]
  },
  {
   "cell_type": "markdown",
   "id": "b3d521a5",
   "metadata": {},
   "source": [
    "This project is to showcase how data can be handled with the Python feature \"pandas\", how data can be analyzed by python, and how algebra and calculus can be pulled from data and what can be predicted from it. Let's upload the data and print out parts of it"
   ]
  },
  {
   "cell_type": "code",
   "execution_count": 41,
   "id": "b455d799",
   "metadata": {},
   "outputs": [
    {
     "name": "stdout",
     "output_type": "stream",
     "text": [
      "    RAMP ID                                                                                                          Title   Status           Category                        Type               Open Date              Close Date          Department                                                                 URL\n",
      "0    225529                                                                                 144777 MISCELLANEOUS, HARDWARE  Amended          Commodity    IFB - Invitation for Bid  10/24/2025 05:03:02 PM  10/29/2025 09:00:00 PM       Water & Power  https://www.rampla.org/s/opportunity-details?id=006Ql00000TOOwXIAX\n",
      "1    226108                                        LACDA25-119 - Supportive Housing Services - Closing: 10/27/2025 3:00 PM     Open  Personal Services                         NaN  10/24/2025 04:30:03 PM  10/27/2025 10:00:00 PM  Los Angeles County  https://www.rampla.org/s/opportunity-details?id=006Ql00000UO6J8IAL\n",
      "2    226107                                                                                      144923 CONNECTORS, BRONZE     Open          Commodity    IFB - Invitation for Bid  10/24/2025 04:10:41 PM  10/31/2025 09:00:00 PM       Water & Power  https://www.rampla.org/s/opportunity-details?id=006Ql00000UO7BxIAL\n",
      "3    226015                                                      144375 FHPP - Cooling Water Outdoor Centrifugal Separator  Amended          Commodity    IFB - Invitation for Bid  10/24/2025 04:04:21 PM  10/29/2025 09:00:00 PM       Water & Power  https://www.rampla.org/s/opportunity-details?id=006Ql00000UJCPBIA5\n",
      "4    225676                                                           90867 OA for LASAN Coordination and AWPF Development  Amended  Personal Services  RFP - Request For Proposal  10/24/2025 03:37:18 PM  12/03/2025 10:00:00 PM       Water & Power  https://www.rampla.org/s/opportunity-details?id=006Ql00000TkfYvIAJ\n",
      "5    226104                                        LACDA25-119 - Supportive Housing Services - Closing: 10/27/2025 3:00 PM     Open  Personal Services                         NaN  10/24/2025 03:30:01 PM  10/27/2025 10:00:00 PM  Los Angeles County  https://www.rampla.org/s/opportunity-details?id=006Ql00000UNyF7IAL\n",
      "6    226103                                        LACDA25-119 - Supportive Housing Services - Closing: 10/27/2025 3:00 PM     Open  Personal Services                         NaN  10/24/2025 02:30:04 PM  10/27/2025 10:00:00 PM  Los Angeles County  https://www.rampla.org/s/opportunity-details?id=006Ql00000UNlrNIAT\n",
      "7    226102                                                                    PAINT & TOOLS, AUTOMOTIVE REFINISH PRODUCTS     Open          Commodity       RFB - Request For Bid  10/24/2025 02:19:31 PM  11/05/2025 07:00:00 PM    General Services  https://www.rampla.org/s/opportunity-details?id=006Ql00000UNjpbIAD\n",
      "8    226101                                        LACDA25-119 - Supportive Housing Services - Closing: 10/27/2025 3:00 PM     Open  Personal Services                         NaN  10/24/2025 01:30:01 PM  10/27/2025 10:00:00 PM  Los Angeles County  https://www.rampla.org/s/opportunity-details?id=006Ql00000UNZztIAH\n",
      "9    226096                                        LACDA25-119 - Supportive Housing Services - Closing: 10/27/2025 3:00 PM     Open  Personal Services                         NaN  10/24/2025 12:30:01 PM  10/27/2025 10:00:00 PM  Los Angeles County  https://www.rampla.org/s/opportunity-details?id=006Ql00000UNMzTIAX\n",
      "10   226097                     RFB-IS-26200322 - Dialysis Water Testing, DHS. SOW attached. - Closing: 11/7/2025 12:00 PM     Open          Commodity       RFB - Request For Bid  10/24/2025 12:30:01 PM  11/07/2025 08:00:00 PM  Los Angeles County  https://www.rampla.org/s/opportunity-details?id=006Ql00000UNMzUIAX\n",
      "11   226098  RFB-IS-26200321 - SECURITY CAMERAS - BRAND ONLY - MANDATORY JOB WALK (PAGE 19) - Closing: 11/25/2025 12:00 PM     Open          Commodity       RFB - Request For Bid  10/24/2025 12:30:01 PM  11/25/2025 08:00:00 PM  Los Angeles County  https://www.rampla.org/s/opportunity-details?id=006Ql00000UNMzVIAX\n",
      "12   226095                                        LACDA25-119 - Supportive Housing Services - Closing: 10/27/2025 3:00 PM     Open  Personal Services                         NaN  10/24/2025 11:30:01 AM  10/27/2025 10:00:00 PM  Los Angeles County  https://www.rampla.org/s/opportunity-details?id=006Ql00000UNLbxIAH\n",
      "13   226094                                        LACDA25-119 - Supportive Housing Services - Closing: 10/27/2025 3:00 PM     Open  Personal Services                         NaN  10/24/2025 10:30:01 AM  10/27/2025 10:00:00 PM  Los Angeles County  https://www.rampla.org/s/opportunity-details?id=006Ql00000UNIW1IAP\n",
      "14   226093                                        LACDA25-119 - Supportive Housing Services - Closing: 10/27/2025 3:00 PM     Open  Personal Services                         NaN  10/24/2025 09:30:00 AM  10/27/2025 10:00:00 PM  Los Angeles County  https://www.rampla.org/s/opportunity-details?id=006Ql00000UNEXFIA5\n",
      "15   226092                                        LACDA25-119 - Supportive Housing Services - Closing: 10/27/2025 3:00 PM     Open  Personal Services                         NaN  10/24/2025 08:30:03 AM  10/27/2025 10:00:00 PM  Los Angeles County  https://www.rampla.org/s/opportunity-details?id=006Ql00000UN8gPIAT\n",
      "16   226091                                        LACDA25-119 - Supportive Housing Services - Closing: 10/27/2025 3:00 PM     Open  Personal Services                         NaN  10/24/2025 07:30:01 AM  10/27/2025 10:00:00 PM  Los Angeles County  https://www.rampla.org/s/opportunity-details?id=006Ql00000UN94XIAT\n",
      "17   226090                                        LACDA25-119 - Supportive Housing Services - Closing: 10/27/2025 3:00 PM     Open  Personal Services                         NaN  10/24/2025 06:30:00 AM  10/27/2025 10:00:00 PM  Los Angeles County  https://www.rampla.org/s/opportunity-details?id=006Ql00000UN5P7IAL\n",
      "18   226089                                        LACDA25-119 - Supportive Housing Services - Closing: 10/27/2025 3:00 PM     Open  Personal Services                         NaN  10/24/2025 05:30:01 AM  10/27/2025 10:00:00 PM  Los Angeles County  https://www.rampla.org/s/opportunity-details?id=006Ql00000UMuVMIA1\n",
      "19   226088                                        LACDA25-119 - Supportive Housing Services - Closing: 10/27/2025 3:00 PM     Open  Personal Services                         NaN  10/24/2025 04:30:00 AM  10/27/2025 10:00:00 PM  Los Angeles County  https://www.rampla.org/s/opportunity-details?id=006Ql00000UMsrkIAD\n"
     ]
    }
   ],
   "source": [
    "import pandas as pd\n",
    "import numpy as np\n",
    "\n",
    "RAMP_OBD_data = pd.read_csv(\"RAMP_Open_Bid_Opportunities.csv\")\n",
    "print(RAMP_OBD_data.head(20))"
   ]
  },
  {
   "cell_type": "code",
   "execution_count": 47,
   "id": "824a37c8",
   "metadata": {},
   "outputs": [
    {
     "name": "stdout",
     "output_type": "stream",
     "text": [
      "                              Type  Count\n",
      "0         IFB - Invitation for Bid     51\n",
      "1        RAB - Reverse Auction Bid      1\n",
      "2            RFB - Request For Bid     51\n",
      "3    RFI - Request for Information      8\n",
      "4       RFP - Request For Proposal     41\n",
      "5  RFQ - Request For Qualification      5\n",
      "6          RFQ - Request for Quote     11\n",
      "7                        RFQ-Bench      3\n",
      "8                      RFQ-Prequal      5\n",
      "9    TOS - Task Order Solicitation     11\n"
     ]
    }
   ],
   "source": [
    "type_amount = RAMP_OBD_data.groupby('Type').size().reset_index(name='Count')\n",
    "print(type_amount)"
   ]
  },
  {
   "cell_type": "code",
   "execution_count": 50,
   "id": "8f925895",
   "metadata": {},
   "outputs": [
    {
     "ename": "KeyError",
     "evalue": "'Status_type'",
     "output_type": "error",
     "traceback": [
      "\u001b[0;31m---------------------------------------------------------------------------\u001b[0m",
      "\u001b[0;31mKeyError\u001b[0m                                  Traceback (most recent call last)",
      "File \u001b[0;32m/opt/anaconda3/lib/python3.11/site-packages/pandas/core/indexes/base.py:3791\u001b[0m, in \u001b[0;36mIndex.get_loc\u001b[0;34m(self, key)\u001b[0m\n\u001b[1;32m   3790\u001b[0m \u001b[38;5;28;01mtry\u001b[39;00m:\n\u001b[0;32m-> 3791\u001b[0m     \u001b[38;5;28;01mreturn\u001b[39;00m \u001b[38;5;28mself\u001b[39m\u001b[38;5;241m.\u001b[39m_engine\u001b[38;5;241m.\u001b[39mget_loc(casted_key)\n\u001b[1;32m   3792\u001b[0m \u001b[38;5;28;01mexcept\u001b[39;00m \u001b[38;5;167;01mKeyError\u001b[39;00m \u001b[38;5;28;01mas\u001b[39;00m err:\n",
      "File \u001b[0;32mindex.pyx:152\u001b[0m, in \u001b[0;36mpandas._libs.index.IndexEngine.get_loc\u001b[0;34m()\u001b[0m\n",
      "File \u001b[0;32mindex.pyx:181\u001b[0m, in \u001b[0;36mpandas._libs.index.IndexEngine.get_loc\u001b[0;34m()\u001b[0m\n",
      "File \u001b[0;32mpandas/_libs/hashtable_class_helper.pxi:7080\u001b[0m, in \u001b[0;36mpandas._libs.hashtable.PyObjectHashTable.get_item\u001b[0;34m()\u001b[0m\n",
      "File \u001b[0;32mpandas/_libs/hashtable_class_helper.pxi:7088\u001b[0m, in \u001b[0;36mpandas._libs.hashtable.PyObjectHashTable.get_item\u001b[0;34m()\u001b[0m\n",
      "\u001b[0;31mKeyError\u001b[0m: 'Status_type'",
      "\nThe above exception was the direct cause of the following exception:\n",
      "\u001b[0;31mKeyError\u001b[0m                                  Traceback (most recent call last)",
      "Cell \u001b[0;32mIn[50], line 1\u001b[0m\n\u001b[0;32m----> 1\u001b[0m type_amount[\u001b[38;5;124m'\u001b[39m\u001b[38;5;124mStatus_type\u001b[39m\u001b[38;5;124m'\u001b[39m]\u001b[38;5;241m.\u001b[39mreplace(\u001b[38;5;124m'\u001b[39m\u001b[38;5;124mnone\u001b[39m\u001b[38;5;124m'\u001b[39m, np\u001b[38;5;241m.\u001b[39mnan)\n",
      "File \u001b[0;32m/opt/anaconda3/lib/python3.11/site-packages/pandas/core/frame.py:3893\u001b[0m, in \u001b[0;36mDataFrame.__getitem__\u001b[0;34m(self, key)\u001b[0m\n\u001b[1;32m   3891\u001b[0m \u001b[38;5;28;01mif\u001b[39;00m \u001b[38;5;28mself\u001b[39m\u001b[38;5;241m.\u001b[39mcolumns\u001b[38;5;241m.\u001b[39mnlevels \u001b[38;5;241m>\u001b[39m \u001b[38;5;241m1\u001b[39m:\n\u001b[1;32m   3892\u001b[0m     \u001b[38;5;28;01mreturn\u001b[39;00m \u001b[38;5;28mself\u001b[39m\u001b[38;5;241m.\u001b[39m_getitem_multilevel(key)\n\u001b[0;32m-> 3893\u001b[0m indexer \u001b[38;5;241m=\u001b[39m \u001b[38;5;28mself\u001b[39m\u001b[38;5;241m.\u001b[39mcolumns\u001b[38;5;241m.\u001b[39mget_loc(key)\n\u001b[1;32m   3894\u001b[0m \u001b[38;5;28;01mif\u001b[39;00m is_integer(indexer):\n\u001b[1;32m   3895\u001b[0m     indexer \u001b[38;5;241m=\u001b[39m [indexer]\n",
      "File \u001b[0;32m/opt/anaconda3/lib/python3.11/site-packages/pandas/core/indexes/base.py:3798\u001b[0m, in \u001b[0;36mIndex.get_loc\u001b[0;34m(self, key)\u001b[0m\n\u001b[1;32m   3793\u001b[0m     \u001b[38;5;28;01mif\u001b[39;00m \u001b[38;5;28misinstance\u001b[39m(casted_key, \u001b[38;5;28mslice\u001b[39m) \u001b[38;5;129;01mor\u001b[39;00m (\n\u001b[1;32m   3794\u001b[0m         \u001b[38;5;28misinstance\u001b[39m(casted_key, abc\u001b[38;5;241m.\u001b[39mIterable)\n\u001b[1;32m   3795\u001b[0m         \u001b[38;5;129;01mand\u001b[39;00m \u001b[38;5;28many\u001b[39m(\u001b[38;5;28misinstance\u001b[39m(x, \u001b[38;5;28mslice\u001b[39m) \u001b[38;5;28;01mfor\u001b[39;00m x \u001b[38;5;129;01min\u001b[39;00m casted_key)\n\u001b[1;32m   3796\u001b[0m     ):\n\u001b[1;32m   3797\u001b[0m         \u001b[38;5;28;01mraise\u001b[39;00m InvalidIndexError(key)\n\u001b[0;32m-> 3798\u001b[0m     \u001b[38;5;28;01mraise\u001b[39;00m \u001b[38;5;167;01mKeyError\u001b[39;00m(key) \u001b[38;5;28;01mfrom\u001b[39;00m \u001b[38;5;21;01merr\u001b[39;00m\n\u001b[1;32m   3799\u001b[0m \u001b[38;5;28;01mexcept\u001b[39;00m \u001b[38;5;167;01mTypeError\u001b[39;00m:\n\u001b[1;32m   3800\u001b[0m     \u001b[38;5;66;03m# If we have a listlike key, _check_indexing_error will raise\u001b[39;00m\n\u001b[1;32m   3801\u001b[0m     \u001b[38;5;66;03m#  InvalidIndexError. Otherwise we fall through and re-raise\u001b[39;00m\n\u001b[1;32m   3802\u001b[0m     \u001b[38;5;66;03m#  the TypeError.\u001b[39;00m\n\u001b[1;32m   3803\u001b[0m     \u001b[38;5;28mself\u001b[39m\u001b[38;5;241m.\u001b[39m_check_indexing_error(key)\n",
      "\u001b[0;31mKeyError\u001b[0m: 'Status_type'"
     ]
    }
   ],
   "source": [
    "type_amount['Status_type'].replace('none', np.nan)"
   ]
  },
  {
   "cell_type": "code",
   "execution_count": null,
   "id": "d99b6589",
   "metadata": {},
   "outputs": [
    {
     "ename": "KeyError",
     "evalue": "'Status_T'",
     "output_type": "error",
     "traceback": [
      "\u001b[0;31m---------------------------------------------------------------------------\u001b[0m",
      "\u001b[0;31mKeyError\u001b[0m                                  Traceback (most recent call last)",
      "Cell \u001b[0;32mIn[38], line 1\u001b[0m\n\u001b[0;32m----> 1\u001b[0m types_by_source \u001b[38;5;241m=\u001b[39m RAMP_OBD_data\u001b[38;5;241m.\u001b[39mgroupby([\u001b[38;5;124m'\u001b[39m\u001b[38;5;124mType\u001b[39m\u001b[38;5;124m'\u001b[39m, \u001b[38;5;124m'\u001b[39m\u001b[38;5;124mStatus_T\u001b[39m\u001b[38;5;124m'\u001b[39m])\u001b[38;5;241m.\u001b[39msize()\u001b[38;5;241m.\u001b[39mreset_index(name\u001b[38;5;241m=\u001b[39m\u001b[38;5;124m'\u001b[39m\u001b[38;5;124mCount\u001b[39m\u001b[38;5;124m'\u001b[39m)\n\u001b[1;32m      2\u001b[0m \u001b[38;5;28mprint\u001b[39m(types_by_source)\n",
      "File \u001b[0;32m/opt/anaconda3/lib/python3.11/site-packages/pandas/core/frame.py:8869\u001b[0m, in \u001b[0;36mDataFrame.groupby\u001b[0;34m(self, by, axis, level, as_index, sort, group_keys, observed, dropna)\u001b[0m\n\u001b[1;32m   8866\u001b[0m \u001b[38;5;28;01mif\u001b[39;00m level \u001b[38;5;129;01mis\u001b[39;00m \u001b[38;5;28;01mNone\u001b[39;00m \u001b[38;5;129;01mand\u001b[39;00m by \u001b[38;5;129;01mis\u001b[39;00m \u001b[38;5;28;01mNone\u001b[39;00m:\n\u001b[1;32m   8867\u001b[0m     \u001b[38;5;28;01mraise\u001b[39;00m \u001b[38;5;167;01mTypeError\u001b[39;00m(\u001b[38;5;124m\"\u001b[39m\u001b[38;5;124mYou have to supply one of \u001b[39m\u001b[38;5;124m'\u001b[39m\u001b[38;5;124mby\u001b[39m\u001b[38;5;124m'\u001b[39m\u001b[38;5;124m and \u001b[39m\u001b[38;5;124m'\u001b[39m\u001b[38;5;124mlevel\u001b[39m\u001b[38;5;124m'\u001b[39m\u001b[38;5;124m\"\u001b[39m)\n\u001b[0;32m-> 8869\u001b[0m \u001b[38;5;28;01mreturn\u001b[39;00m DataFrameGroupBy(\n\u001b[1;32m   8870\u001b[0m     obj\u001b[38;5;241m=\u001b[39m\u001b[38;5;28mself\u001b[39m,\n\u001b[1;32m   8871\u001b[0m     keys\u001b[38;5;241m=\u001b[39mby,\n\u001b[1;32m   8872\u001b[0m     axis\u001b[38;5;241m=\u001b[39maxis,\n\u001b[1;32m   8873\u001b[0m     level\u001b[38;5;241m=\u001b[39mlevel,\n\u001b[1;32m   8874\u001b[0m     as_index\u001b[38;5;241m=\u001b[39mas_index,\n\u001b[1;32m   8875\u001b[0m     sort\u001b[38;5;241m=\u001b[39msort,\n\u001b[1;32m   8876\u001b[0m     group_keys\u001b[38;5;241m=\u001b[39mgroup_keys,\n\u001b[1;32m   8877\u001b[0m     observed\u001b[38;5;241m=\u001b[39mobserved,\n\u001b[1;32m   8878\u001b[0m     dropna\u001b[38;5;241m=\u001b[39mdropna,\n\u001b[1;32m   8879\u001b[0m )\n",
      "File \u001b[0;32m/opt/anaconda3/lib/python3.11/site-packages/pandas/core/groupby/groupby.py:1278\u001b[0m, in \u001b[0;36mGroupBy.__init__\u001b[0;34m(self, obj, keys, axis, level, grouper, exclusions, selection, as_index, sort, group_keys, observed, dropna)\u001b[0m\n\u001b[1;32m   1275\u001b[0m \u001b[38;5;28mself\u001b[39m\u001b[38;5;241m.\u001b[39mdropna \u001b[38;5;241m=\u001b[39m dropna\n\u001b[1;32m   1277\u001b[0m \u001b[38;5;28;01mif\u001b[39;00m grouper \u001b[38;5;129;01mis\u001b[39;00m \u001b[38;5;28;01mNone\u001b[39;00m:\n\u001b[0;32m-> 1278\u001b[0m     grouper, exclusions, obj \u001b[38;5;241m=\u001b[39m get_grouper(\n\u001b[1;32m   1279\u001b[0m         obj,\n\u001b[1;32m   1280\u001b[0m         keys,\n\u001b[1;32m   1281\u001b[0m         axis\u001b[38;5;241m=\u001b[39maxis,\n\u001b[1;32m   1282\u001b[0m         level\u001b[38;5;241m=\u001b[39mlevel,\n\u001b[1;32m   1283\u001b[0m         sort\u001b[38;5;241m=\u001b[39msort,\n\u001b[1;32m   1284\u001b[0m         observed\u001b[38;5;241m=\u001b[39m\u001b[38;5;28;01mFalse\u001b[39;00m \u001b[38;5;28;01mif\u001b[39;00m observed \u001b[38;5;129;01mis\u001b[39;00m lib\u001b[38;5;241m.\u001b[39mno_default \u001b[38;5;28;01melse\u001b[39;00m observed,\n\u001b[1;32m   1285\u001b[0m         dropna\u001b[38;5;241m=\u001b[39m\u001b[38;5;28mself\u001b[39m\u001b[38;5;241m.\u001b[39mdropna,\n\u001b[1;32m   1286\u001b[0m     )\n\u001b[1;32m   1288\u001b[0m \u001b[38;5;28;01mif\u001b[39;00m observed \u001b[38;5;129;01mis\u001b[39;00m lib\u001b[38;5;241m.\u001b[39mno_default:\n\u001b[1;32m   1289\u001b[0m     \u001b[38;5;28;01mif\u001b[39;00m \u001b[38;5;28many\u001b[39m(ping\u001b[38;5;241m.\u001b[39m_passed_categorical \u001b[38;5;28;01mfor\u001b[39;00m ping \u001b[38;5;129;01min\u001b[39;00m grouper\u001b[38;5;241m.\u001b[39mgroupings):\n",
      "File \u001b[0;32m/opt/anaconda3/lib/python3.11/site-packages/pandas/core/groupby/grouper.py:1009\u001b[0m, in \u001b[0;36mget_grouper\u001b[0;34m(obj, key, axis, level, sort, observed, validate, dropna)\u001b[0m\n\u001b[1;32m   1007\u001b[0m         in_axis, level, gpr \u001b[38;5;241m=\u001b[39m \u001b[38;5;28;01mFalse\u001b[39;00m, gpr, \u001b[38;5;28;01mNone\u001b[39;00m\n\u001b[1;32m   1008\u001b[0m     \u001b[38;5;28;01melse\u001b[39;00m:\n\u001b[0;32m-> 1009\u001b[0m         \u001b[38;5;28;01mraise\u001b[39;00m \u001b[38;5;167;01mKeyError\u001b[39;00m(gpr)\n\u001b[1;32m   1010\u001b[0m \u001b[38;5;28;01melif\u001b[39;00m \u001b[38;5;28misinstance\u001b[39m(gpr, Grouper) \u001b[38;5;129;01mand\u001b[39;00m gpr\u001b[38;5;241m.\u001b[39mkey \u001b[38;5;129;01mis\u001b[39;00m \u001b[38;5;129;01mnot\u001b[39;00m \u001b[38;5;28;01mNone\u001b[39;00m:\n\u001b[1;32m   1011\u001b[0m     \u001b[38;5;66;03m# Add key to exclusions\u001b[39;00m\n\u001b[1;32m   1012\u001b[0m     exclusions\u001b[38;5;241m.\u001b[39madd(gpr\u001b[38;5;241m.\u001b[39mkey)\n",
      "\u001b[0;31mKeyError\u001b[0m: 'Status_T'"
     ]
    }
   ],
   "source": [
    "types_by_source = RAMP_OBD_data.groupby(['Type', 'Status']).size().reset_index(name='Count')\n",
    "print(types_by_source)"
   ]
  }
 ],
 "metadata": {
  "kernelspec": {
   "display_name": "base",
   "language": "python",
   "name": "python3"
  },
  "language_info": {
   "codemirror_mode": {
    "name": "ipython",
    "version": 3
   },
   "file_extension": ".py",
   "mimetype": "text/x-python",
   "name": "python",
   "nbconvert_exporter": "python",
   "pygments_lexer": "ipython3",
   "version": "3.11.7"
  }
 },
 "nbformat": 4,
 "nbformat_minor": 5
}
